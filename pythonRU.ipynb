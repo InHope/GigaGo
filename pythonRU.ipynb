{
  "nbformat": 4,
  "nbformat_minor": 0,
  "metadata": {
    "colab": {
      "name": "pythonRU.ipynb",
      "provenance": [],
      "authorship_tag": "ABX9TyMbiviQhd68+xHDL9441JgI",
      "include_colab_link": true
    },
    "kernelspec": {
      "name": "python3",
      "display_name": "Python 3"
    },
    "language_info": {
      "name": "python"
    }
  },
  "cells": [
    {
      "cell_type": "markdown",
      "metadata": {
        "id": "view-in-github",
        "colab_type": "text"
      },
      "source": [
        "<a href=\"https://colab.research.google.com/github/InHope/GigaGo/blob/master/pythonRU.ipynb\" target=\"_parent\"><img src=\"https://colab.research.google.com/assets/colab-badge.svg\" alt=\"Open In Colab\"/></a>"
      ]
    },
    {
      "cell_type": "code",
      "metadata": {
        "colab": {
          "base_uri": "https://localhost:8080/"
        },
        "id": "gpRvZi89SHQd",
        "outputId": "62e47c65-9e5c-4f3f-a55e-6743e5598cfb"
      },
      "source": [
        "somename99=100\n",
        "print(somename99)"
      ],
      "execution_count": null,
      "outputs": [
        {
          "output_type": "stream",
          "text": [
            "100\n"
          ],
          "name": "stdout"
        }
      ]
    },
    {
      "cell_type": "code",
      "metadata": {
        "colab": {
          "base_uri": "https://localhost:8080/"
        },
        "id": "5bAtW0D3S_Md",
        "outputId": "72f1f702-6732-4c6e-8082-e57ad09969e6"
      },
      "source": [
        "a=100\n",
        "b=200\n",
        "\n",
        "a,b"
      ],
      "execution_count": null,
      "outputs": [
        {
          "output_type": "execute_result",
          "data": {
            "text/plain": [
              "(100, 200)"
            ]
          },
          "metadata": {
            "tags": []
          },
          "execution_count": 3
        }
      ]
    },
    {
      "cell_type": "code",
      "metadata": {
        "colab": {
          "base_uri": "https://localhost:8080/"
        },
        "id": "XMMJ-m-UTOtR",
        "outputId": "40a8671d-577a-4c4e-9fde-a62d034519c5"
      },
      "source": [
        "a=10\n",
        "b=20\n",
        "c=a+b\n",
        "print(c)"
      ],
      "execution_count": null,
      "outputs": [
        {
          "output_type": "stream",
          "text": [
            "30\n"
          ],
          "name": "stdout"
        }
      ]
    },
    {
      "cell_type": "code",
      "metadata": {
        "colab": {
          "base_uri": "https://localhost:8080/"
        },
        "id": "WvUChU_LTX52",
        "outputId": "02173734-08dc-4889-d578-16c1f5f04a96"
      },
      "source": [
        "a=10.5\n",
        "b=10\n",
        "c=a+b\n",
        "print(c)"
      ],
      "execution_count": null,
      "outputs": [
        {
          "output_type": "stream",
          "text": [
            "20.5\n"
          ],
          "name": "stdout"
        }
      ]
    },
    {
      "cell_type": "code",
      "metadata": {
        "colab": {
          "base_uri": "https://localhost:8080/"
        },
        "id": "xEfijpWxTguv",
        "outputId": "3e695ea3-2b76-44fb-bde9-db403ead41a8"
      },
      "source": [
        "a=\"raj\"\n",
        "b=\"kumar\"\n",
        "c=a+b\n",
        "print(c)"
      ],
      "execution_count": null,
      "outputs": [
        {
          "output_type": "stream",
          "text": [
            "rajkumar\n"
          ],
          "name": "stdout"
        }
      ]
    },
    {
      "cell_type": "code",
      "metadata": {
        "colab": {
          "base_uri": "https://localhost:8080/"
        },
        "id": "KAXQSwEbT22W",
        "outputId": "d3ae560e-30ef-41da-fc7b-03ac578b879d"
      },
      "source": [
        "raj=100\n",
        "ravi=200\n",
        "anvesh=300\n",
        "uday=raj+ravi+anvesh\n",
        "print(uday)"
      ],
      "execution_count": null,
      "outputs": [
        {
          "output_type": "stream",
          "text": [
            "600\n"
          ],
          "name": "stdout"
        }
      ]
    },
    {
      "cell_type": "code",
      "metadata": {
        "colab": {
          "base_uri": "https://localhost:8080/"
        },
        "id": "_SgUaClxUCJx",
        "outputId": "cdee3ab7-4d72-4fe3-d041-174d9324617e"
      },
      "source": [
        "_raj=100\n",
        "print(_raj)"
      ],
      "execution_count": null,
      "outputs": [
        {
          "output_type": "stream",
          "text": [
            "100\n"
          ],
          "name": "stdout"
        }
      ]
    },
    {
      "cell_type": "code",
      "metadata": {
        "colab": {
          "base_uri": "https://localhost:8080/"
        },
        "id": "CPJ5VQbnUIpv",
        "outputId": "dddc5f0a-1e81-478d-c23d-15acdb29a3db"
      },
      "source": [
        "raj=100\n",
        "print(raj)"
      ],
      "execution_count": null,
      "outputs": [
        {
          "output_type": "stream",
          "text": [
            "100\n"
          ],
          "name": "stdout"
        }
      ]
    },
    {
      "cell_type": "code",
      "metadata": {
        "colab": {
          "base_uri": "https://localhost:8080/",
          "height": 129
        },
        "id": "tvUHH4JQUMJR",
        "outputId": "214015c0-1f97-45f8-db84-8e7b85738984"
      },
      "source": [
        "raj=100\n",
        "print(raj)"
      ],
      "execution_count": null,
      "outputs": [
        {
          "output_type": "error",
          "ename": "SyntaxError",
          "evalue": "ignored",
          "traceback": [
            "\u001b[0;36m  File \u001b[0;32m\"<ipython-input-12-ffaf2537a348>\"\u001b[0;36m, line \u001b[0;32m2\u001b[0m\n\u001b[0;31m    print(!raj)\u001b[0m\n\u001b[0m          ^\u001b[0m\n\u001b[0;31mSyntaxError\u001b[0m\u001b[0;31m:\u001b[0m invalid syntax\n"
          ]
        }
      ]
    },
    {
      "cell_type": "code",
      "metadata": {
        "colab": {
          "base_uri": "https://localhost:8080/"
        },
        "id": "9tOUaZ1oUe1r",
        "outputId": "05faab43-fd2f-4175-b5f1-727019d3a784"
      },
      "source": [
        "#Adding two numbers\n",
        "one=10\n",
        "two=20\n",
        "c=one+two\n",
        "print(c)"
      ],
      "execution_count": null,
      "outputs": [
        {
          "output_type": "stream",
          "text": [
            "30\n"
          ],
          "name": "stdout"
        }
      ]
    },
    {
      "cell_type": "code",
      "metadata": {
        "colab": {
          "base_uri": "https://localhost:8080/"
        },
        "id": "Bn1tTU65U6-J",
        "outputId": "6b046df7-c1bc-412a-d998-ccfce3af98da"
      },
      "source": [
        "\"\"\" hai\n",
        "am\n",
        "uday\"\"\"\n",
        "a=100\n",
        "print(a)"
      ],
      "execution_count": null,
      "outputs": [
        {
          "output_type": "stream",
          "text": [
            "100\n"
          ],
          "name": "stdout"
        }
      ]
    },
    {
      "cell_type": "code",
      "metadata": {
        "id": "YomvGe4kVnOk",
        "colab": {
          "base_uri": "https://localhost:8080/"
        },
        "outputId": "b47042af-983a-43af-f69a-fe2aa08907fd"
      },
      "source": [
        "#\"am printing abc=100\"\n",
        "abc=100\n",
        "abc\n"
      ],
      "execution_count": null,
      "outputs": [
        {
          "output_type": "execute_result",
          "data": {
            "text/plain": [
              "100"
            ]
          },
          "metadata": {
            "tags": []
          },
          "execution_count": 3
        }
      ]
    },
    {
      "cell_type": "code",
      "metadata": {
        "colab": {
          "base_uri": "https://localhost:8080/"
        },
        "id": "UyvPB-42Rg6E",
        "outputId": "e01827e6-4edf-4674-ac4c-343f8cd0516e"
      },
      "source": [
        "#i am printing a=5\n",
        "#i am also printing b=10\n",
        "a=5\n",
        "b=10\n",
        "a,b"
      ],
      "execution_count": null,
      "outputs": [
        {
          "output_type": "execute_result",
          "data": {
            "text/plain": [
              "(5, 10)"
            ]
          },
          "metadata": {
            "tags": []
          },
          "execution_count": 4
        }
      ]
    },
    {
      "cell_type": "code",
      "metadata": {
        "colab": {
          "base_uri": "https://localhost:8080/"
        },
        "id": "Ko_d8Dl9SG98",
        "outputId": "794c874c-78a5-4cf5-d232-895ba82e15fb"
      },
      "source": [
        "a=10\n",
        "b=20\n",
        "print(a,b)"
      ],
      "execution_count": null,
      "outputs": [
        {
          "output_type": "stream",
          "text": [
            "10 20\n"
          ],
          "name": "stdout"
        }
      ]
    },
    {
      "cell_type": "code",
      "metadata": {
        "colab": {
          "base_uri": "https://localhost:8080/"
        },
        "id": "el1iMyuoZDKm",
        "outputId": "a0f8fb6d-1508-4c2b-d8d0-07da91b947d3"
      },
      "source": [
        "fruits = [\"apple\", \"banana\", \"cherry\"]\n",
        "fruits\n",
        "\n",
        "for i in fruits:\n",
        "  print(i)\n",
        "\n",
        " "
      ],
      "execution_count": null,
      "outputs": [
        {
          "output_type": "stream",
          "text": [
            "apple\n",
            "banana\n",
            "cherry\n"
          ],
          "name": "stdout"
        }
      ]
    },
    {
      "cell_type": "code",
      "metadata": {
        "id": "J4jsTRcdZcWh",
        "colab": {
          "base_uri": "https://localhost:8080/"
        },
        "outputId": "d646b9e7-816f-4444-ee3b-6a60230e8a83"
      },
      "source": [
        "a=10\n",
        "b=20\n",
        "c=30\n",
        "z=a+b+c\n",
        "z"
      ],
      "execution_count": null,
      "outputs": [
        {
          "output_type": "execute_result",
          "data": {
            "text/plain": [
              "60"
            ]
          },
          "metadata": {
            "tags": []
          },
          "execution_count": 2
        }
      ]
    },
    {
      "cell_type": "code",
      "metadata": {
        "colab": {
          "base_uri": "https://localhost:8080/"
        },
        "id": "PtCn3RZWXnkw",
        "outputId": "22b6b9c7-497f-49b2-d1ab-bfa005a3a576"
      },
      "source": [
        "number= 10 + 20 + \\\n",
        "           +30+40 + \\\n",
        "           +50\n",
        "number"
      ],
      "execution_count": null,
      "outputs": [
        {
          "output_type": "execute_result",
          "data": {
            "text/plain": [
              "150"
            ]
          },
          "metadata": {
            "tags": []
          },
          "execution_count": 4
        }
      ]
    },
    {
      "cell_type": "code",
      "metadata": {
        "colab": {
          "base_uri": "https://localhost:8080/"
        },
        "id": "TZqUKVhMYQCH",
        "outputId": "c0a4e2bb-5c23-4a59-b080-ff324baa9ef6"
      },
      "source": [
        "number= (10+20+\n",
        "         30+40+\n",
        "         50)\n",
        "number"
      ],
      "execution_count": null,
      "outputs": [
        {
          "output_type": "execute_result",
          "data": {
            "text/plain": [
              "150"
            ]
          },
          "metadata": {
            "tags": []
          },
          "execution_count": 5
        }
      ]
    },
    {
      "cell_type": "code",
      "metadata": {
        "colab": {
          "base_uri": "https://localhost:8080/"
        },
        "id": "SGgkjQIsYrph",
        "outputId": "0517a702-15e5-4576-f558-432a81fb6f8c"
      },
      "source": [
        "integer = 4\n",
        "decimal = 22.25\n",
        "string = \"StringValue\"\n",
        "print(integer % decimal)"
      ],
      "execution_count": null,
      "outputs": [
        {
          "output_type": "stream",
          "text": [
            "4.0\n"
          ],
          "name": "stdout"
        }
      ]
    },
    {
      "cell_type": "code",
      "metadata": {
        "colab": {
          "base_uri": "https://localhost:8080/"
        },
        "id": "B6lr5l4TcqI-",
        "outputId": "936b4de2-ce34-4b4e-d3e8-1051e10dbca9"
      },
      "source": [
        "intergerNumber, decimalNumber, stringVariable = 4, 22.2, \"StringValue\"\n",
        "print(intergerNumber, decimalNumber, stringVariable)"
      ],
      "execution_count": null,
      "outputs": [
        {
          "output_type": "stream",
          "text": [
            "4 22.2 StringValue\n"
          ],
          "name": "stdout"
        }
      ]
    },
    {
      "cell_type": "code",
      "metadata": {
        "colab": {
          "base_uri": "https://localhost:8080/"
        },
        "id": "Uc4TKVjydUxh",
        "outputId": "52bc638c-f786-4ea4-b6d2-85c77eb5ce82"
      },
      "source": [
        "a= 4\n",
        "b=10.5\n",
        "c='raj'\n",
        "d=105.55500\n",
        "print(type(a))\n",
        "print(type(b))\n",
        "print(type(c))\n",
        "print(type(d))\n",
        "\n"
      ],
      "execution_count": null,
      "outputs": [
        {
          "output_type": "stream",
          "text": [
            "<class 'int'>\n",
            "<class 'float'>\n",
            "<class 'str'>\n",
            "<class 'float'>\n"
          ],
          "name": "stdout"
        }
      ]
    },
    {
      "cell_type": "code",
      "metadata": {
        "colab": {
          "base_uri": "https://localhost:8080/"
        },
        "id": "HA2mCHGAd9G_",
        "outputId": "d94d2c88-343f-4e52-c966-66efab35e57e"
      },
      "source": [
        "raj=uday=ravi=kvr =28\n",
        "print(raj,uday,kvr)\n",
        "print(type(raj))"
      ],
      "execution_count": null,
      "outputs": [
        {
          "output_type": "stream",
          "text": [
            "28 28 28\n",
            "<class 'int'>\n"
          ],
          "name": "stdout"
        }
      ]
    },
    {
      "cell_type": "code",
      "metadata": {
        "colab": {
          "base_uri": "https://localhost:8080/"
        },
        "id": "Een2D_mQfSYD",
        "outputId": "d21939a8-652a-465e-a784-947026040991"
      },
      "source": [
        "a= 4\n",
        "b=10.5\n",
        "c='raj'\n",
        "\n",
        "print(id(a))\n",
        "print(id(b))\n",
        "print(id(c))"
      ],
      "execution_count": null,
      "outputs": [
        {
          "output_type": "stream",
          "text": [
            "94647902321248\n",
            "140290214230416\n",
            "140290215194736\n"
          ],
          "name": "stdout"
        }
      ]
    },
    {
      "cell_type": "code",
      "metadata": {
        "colab": {
          "base_uri": "https://localhost:8080/"
        },
        "id": "nf1TL2Z7gUTr",
        "outputId": "86c3e71c-51b1-4015-f788-d433d2d69061"
      },
      "source": [
        "a1=20\n",
        "b1=20\n",
        "c1=20\n",
        "print(id(a1))\n",
        "print(id(b1))\n",
        "print(id(c1))"
      ],
      "execution_count": null,
      "outputs": [
        {
          "output_type": "stream",
          "text": [
            "94647902321760\n",
            "94647902321760\n",
            "94647902321760\n"
          ],
          "name": "stdout"
        }
      ]
    },
    {
      "cell_type": "code",
      "metadata": {
        "colab": {
          "base_uri": "https://localhost:8080/"
        },
        "id": "J9zMaLBihDrc",
        "outputId": "a72dc646-6308-4a8d-c063-a4cdf0f54e6f"
      },
      "source": [
        "a=10\n",
        "b=2.5\n",
        "c=a+b\n",
        "c"
      ],
      "execution_count": null,
      "outputs": [
        {
          "output_type": "execute_result",
          "data": {
            "text/plain": [
              "12.5"
            ]
          },
          "metadata": {
            "tags": []
          },
          "execution_count": 36
        }
      ]
    },
    {
      "cell_type": "code",
      "metadata": {
        "colab": {
          "base_uri": "https://localhost:8080/"
        },
        "id": "SS9n2FC_iHGl",
        "outputId": "894038dd-8c91-49e0-e074-2f6bc78d198d"
      },
      "source": [
        "data1 = 'raj kumar'               #integer data type\n",
        "print(data1, \" is of type\", type(data1))"
      ],
      "execution_count": null,
      "outputs": [
        {
          "output_type": "stream",
          "text": [
            "raj kumar  is of type <class 'str'>\n"
          ],
          "name": "stdout"
        }
      ]
    },
    {
      "cell_type": "code",
      "metadata": {
        "colab": {
          "base_uri": "https://localhost:8080/"
        },
        "id": "dNttMv5pj_UA",
        "outputId": "04070021-9057-4e3a-ca7e-1a6be256570a"
      },
      "source": [
        "print(data1, \"is a string value\", isinstance(data1,int))"
      ],
      "execution_count": null,
      "outputs": [
        {
          "output_type": "stream",
          "text": [
            "raj kumar is a string value False\n"
          ],
          "name": "stdout"
        }
      ]
    },
    {
      "cell_type": "code",
      "metadata": {
        "colab": {
          "base_uri": "https://localhost:8080/"
        },
        "id": "4EwejaU3krOT",
        "outputId": "dfae1308-b189-47e2-f415-09bf3a4941f8"
      },
      "source": [
        "a=False\n",
        "print(type(a))"
      ],
      "execution_count": null,
      "outputs": [
        {
          "output_type": "stream",
          "text": [
            "<class 'bool'>\n"
          ],
          "name": "stdout"
        }
      ]
    },
    {
      "cell_type": "code",
      "metadata": {
        "colab": {
          "base_uri": "https://localhost:8080/"
        },
        "id": "C57cjcjZlKHz",
        "outputId": "9b626034-833c-4df5-c22f-db15b78cc0c2"
      },
      "source": [
        "b='10'\n",
        "c='10+20'\n",
        "d=c+b\n",
        "print(type(d))"
      ],
      "execution_count": null,
      "outputs": [
        {
          "output_type": "stream",
          "text": [
            "<class 'str'>\n"
          ],
          "name": "stdout"
        }
      ]
    },
    {
      "cell_type": "code",
      "metadata": {
        "colab": {
          "base_uri": "https://localhost:8080/",
          "height": 35
        },
        "id": "ViugyYEOl2Y2",
        "outputId": "8fbc7dd0-452f-442a-8310-3a67f9efeaa3"
      },
      "source": [
        "string='rajkumar'\n",
        "string\n",
        "string[0:8]\n",
        "string[1:6]"
      ],
      "execution_count": null,
      "outputs": [
        {
          "output_type": "execute_result",
          "data": {
            "application/vnd.google.colaboratory.intrinsic+json": {
              "type": "string"
            },
            "text/plain": [
              "'ajkum'"
            ]
          },
          "metadata": {
            "tags": []
          },
          "execution_count": 58
        }
      ]
    },
    {
      "cell_type": "code",
      "metadata": {
        "id": "gesIdpBlmPq4",
        "colab": {
          "base_uri": "https://localhost:8080/",
          "height": 52
        },
        "outputId": "af758696-d7c1-4c6b-d9e8-f3ee96df766e"
      },
      "source": [
        "string1=\"I am new to python programming\"\n",
        "string1\n",
        "print(len(string1)) #len() is used to know the length of the string\n",
        "string1[12:18]  #slicing or knowing sub-string\n",
        "string1[:12]    #string[startIndex:end Index] #the default starting index is '0' and default ending index is up to the last element\n",
        "string1[:]\n",
        "string1[:-1]\n",
        "string1[4:-4]    #from starting positive index from ending negutive index"
      ],
      "execution_count": null,
      "outputs": [
        {
          "output_type": "stream",
          "text": [
            "30\n"
          ],
          "name": "stdout"
        },
        {
          "output_type": "execute_result",
          "data": {
            "application/vnd.google.colaboratory.intrinsic+json": {
              "type": "string"
            },
            "text/plain": [
              "' new to python program'"
            ]
          },
          "metadata": {
            "tags": []
          },
          "execution_count": 10
        }
      ]
    },
    {
      "cell_type": "code",
      "metadata": {
        "colab": {
          "base_uri": "https://localhost:8080/"
        },
        "id": "UFwCqOdApl9U",
        "outputId": "8fb4a69e-8e56-4c65-d499-293334579045"
      },
      "source": [
        "list1=[1,2,3,4,5]\n",
        "\n",
        "print(type(list1))"
      ],
      "execution_count": null,
      "outputs": [
        {
          "output_type": "stream",
          "text": [
            "<class 'list'>\n"
          ],
          "name": "stdout"
        }
      ]
    },
    {
      "cell_type": "code",
      "metadata": {
        "colab": {
          "base_uri": "https://localhost:8080/"
        },
        "id": "j1Y-UoXAyJus",
        "outputId": "c13f9441-7167-4fbf-b35d-e50bf330bddd"
      },
      "source": [
        "list2=[1,'raj',2.5,2,'uday',4.5]\n",
        "list2[4]\n",
        "list2[5]='ravi'\n",
        "list2[3]='kumar'\n",
        "list2[1]='franklin'\n",
        "list2.remove(2.5)    #remove() is used to remove a particular element\n",
        "list2.pop()\n",
        "list2"
      ],
      "execution_count": null,
      "outputs": [
        {
          "output_type": "execute_result",
          "data": {
            "text/plain": [
              "[1, 'franklin', 'kumar', 'uday']"
            ]
          },
          "metadata": {
            "tags": []
          },
          "execution_count": 31
        }
      ]
    },
    {
      "cell_type": "code",
      "metadata": {
        "colab": {
          "base_uri": "https://localhost:8080/"
        },
        "id": "zTKQnsmIycX0",
        "outputId": "efb36c6d-05ec-4da3-d892-8ce5a9ec0227"
      },
      "source": [
        "list3=['uday','raj','kumar','ravichandhra','anvesh']\n",
        "list3.pop(3)\n",
        "list3.pop()\n",
        "list3.pop()\n",
        "list3.pop()\n",
        "list3.append('ravi')\n",
        "list3.pop(0)\n",
        "list3.append('uday')\n",
        "list3.append('raj')\n",
        "list3"
      ],
      "execution_count": null,
      "outputs": [
        {
          "output_type": "execute_result",
          "data": {
            "text/plain": [
              "['ravi', 'uday', 'raj']"
            ]
          },
          "metadata": {
            "tags": []
          },
          "execution_count": 46
        }
      ]
    },
    {
      "cell_type": "code",
      "metadata": {
        "colab": {
          "base_uri": "https://localhost:8080/"
        },
        "id": "P_4Cxx5gz8ej",
        "outputId": "f2bb2710-cbb3-4083-a7d2-ee80e07987a8"
      },
      "source": [
        "list4=[1,2,3,4,5]\n",
        "list4.pop()\n",
        "list4.pop()\n",
        "list4"
      ],
      "execution_count": null,
      "outputs": [
        {
          "output_type": "execute_result",
          "data": {
            "text/plain": [
              "[1, 2, 3]"
            ]
          },
          "metadata": {
            "tags": []
          },
          "execution_count": 49
        }
      ]
    },
    {
      "cell_type": "code",
      "metadata": {
        "id": "NB5tWcvR22SM"
      },
      "source": [
        "#append()\n",
        "#remove()\n",
        "#pop()"
      ],
      "execution_count": null,
      "outputs": []
    },
    {
      "cell_type": "code",
      "metadata": {
        "colab": {
          "base_uri": "https://localhost:8080/",
          "height": 214
        },
        "id": "_U7zItyG4UKd",
        "outputId": "f1338962-175a-4ed3-e960-ff096baa0baf"
      },
      "source": [
        "tuple1=(1,2,3,4,5)\n",
        "tuple1\n",
        "print(type(tuple1))\n",
        "tuple1"
      ],
      "execution_count": null,
      "outputs": [
        {
          "output_type": "stream",
          "text": [
            "<class 'tuple'>\n"
          ],
          "name": "stdout"
        },
        {
          "output_type": "error",
          "ename": "AttributeError",
          "evalue": "ignored",
          "traceback": [
            "\u001b[0;31m---------------------------------------------------------------------------\u001b[0m",
            "\u001b[0;31mAttributeError\u001b[0m                            Traceback (most recent call last)",
            "\u001b[0;32m<ipython-input-55-27cd80f786cd>\u001b[0m in \u001b[0;36m<module>\u001b[0;34m()\u001b[0m\n\u001b[1;32m      2\u001b[0m \u001b[0mtuple1\u001b[0m\u001b[0;34m\u001b[0m\u001b[0;34m\u001b[0m\u001b[0m\n\u001b[1;32m      3\u001b[0m \u001b[0mprint\u001b[0m\u001b[0;34m(\u001b[0m\u001b[0mtype\u001b[0m\u001b[0;34m(\u001b[0m\u001b[0mtuple1\u001b[0m\u001b[0;34m)\u001b[0m\u001b[0;34m)\u001b[0m\u001b[0;34m\u001b[0m\u001b[0;34m\u001b[0m\u001b[0m\n\u001b[0;32m----> 4\u001b[0;31m \u001b[0mtuple1\u001b[0m\u001b[0;34m.\u001b[0m\u001b[0mremove\u001b[0m\u001b[0;34m(\u001b[0m\u001b[0;36m2\u001b[0m\u001b[0;34m)\u001b[0m\u001b[0;34m\u001b[0m\u001b[0;34m\u001b[0m\u001b[0m\n\u001b[0m",
            "\u001b[0;31mAttributeError\u001b[0m: 'tuple' object has no attribute 'remove'"
          ]
        }
      ]
    },
    {
      "cell_type": "code",
      "metadata": {
        "colab": {
          "base_uri": "https://localhost:8080/"
        },
        "id": "V2kCGQQC4azV",
        "outputId": "ea65003c-43dc-4995-99a0-8adcc55ad9a3"
      },
      "source": [
        "list5=[1,2,'ravi',4,'raj',7,'uday']\n",
        "list5"
      ],
      "execution_count": null,
      "outputs": [
        {
          "output_type": "execute_result",
          "data": {
            "text/plain": [
              "[1, 2, 'ravi', 4, 'raj', 7, 'uday']"
            ]
          },
          "metadata": {
            "tags": []
          },
          "execution_count": 57
        }
      ]
    },
    {
      "cell_type": "code",
      "metadata": {
        "id": "kdWIY7um5h-k",
        "colab": {
          "base_uri": "https://localhost:8080/"
        },
        "outputId": "f78ecc9d-4b85-481f-aa6d-ec343c003e91"
      },
      "source": [
        "list6=[200,45,78,122,59]\n",
        "list6[1] #index\n",
        "list6[0]='uday' #mutable\n",
        "list6.pop(2) #we can remove by using index\n",
        "list6.remove(45) #remove a particular element\n",
        "list6.append('rajkumar') #adding a new element by using append()\n",
        "list6"
      ],
      "execution_count": 8,
      "outputs": [
        {
          "output_type": "execute_result",
          "data": {
            "text/plain": [
              "['uday', 122, 59, 'rajkumar']"
            ]
          },
          "metadata": {
            "tags": []
          },
          "execution_count": 8
        }
      ]
    },
    {
      "cell_type": "code",
      "metadata": {
        "colab": {
          "base_uri": "https://localhost:8080/"
        },
        "id": "lnRblGaGavsW",
        "outputId": "55006db3-5415-4b15-b20a-2cd245d9cc1f"
      },
      "source": [
        "tuple1=(1,2,3,4,5)\n",
        "type(tuple1)"
      ],
      "execution_count": 10,
      "outputs": [
        {
          "output_type": "execute_result",
          "data": {
            "text/plain": [
              "tuple"
            ]
          },
          "metadata": {
            "tags": []
          },
          "execution_count": 10
        }
      ]
    },
    {
      "cell_type": "code",
      "metadata": {
        "colab": {
          "base_uri": "https://localhost:8080/",
          "height": 197
        },
        "id": "QxhKlcMxcgJx",
        "outputId": "02175aba-5d30-41ff-b2cf-df88926832f6"
      },
      "source": [
        "tup=(1,2,3,4,5,6)\n",
        "type(tup)\n",
        "tup.pop(2)"
      ],
      "execution_count": 23,
      "outputs": [
        {
          "output_type": "error",
          "ename": "AttributeError",
          "evalue": "ignored",
          "traceback": [
            "\u001b[0;31m---------------------------------------------------------------------------\u001b[0m",
            "\u001b[0;31mAttributeError\u001b[0m                            Traceback (most recent call last)",
            "\u001b[0;32m<ipython-input-23-d016e31af268>\u001b[0m in \u001b[0;36m<module>\u001b[0;34m()\u001b[0m\n\u001b[1;32m      1\u001b[0m \u001b[0mtup\u001b[0m\u001b[0;34m=\u001b[0m\u001b[0;34m(\u001b[0m\u001b[0;36m1\u001b[0m\u001b[0;34m,\u001b[0m\u001b[0;36m2\u001b[0m\u001b[0;34m,\u001b[0m\u001b[0;36m3\u001b[0m\u001b[0;34m,\u001b[0m\u001b[0;36m4\u001b[0m\u001b[0;34m,\u001b[0m\u001b[0;36m5\u001b[0m\u001b[0;34m,\u001b[0m\u001b[0;36m6\u001b[0m\u001b[0;34m)\u001b[0m\u001b[0;34m\u001b[0m\u001b[0;34m\u001b[0m\u001b[0m\n\u001b[1;32m      2\u001b[0m \u001b[0mtype\u001b[0m\u001b[0;34m(\u001b[0m\u001b[0mtup\u001b[0m\u001b[0;34m)\u001b[0m\u001b[0;34m\u001b[0m\u001b[0;34m\u001b[0m\u001b[0m\n\u001b[0;32m----> 3\u001b[0;31m \u001b[0mtup\u001b[0m\u001b[0;34m.\u001b[0m\u001b[0mpop\u001b[0m\u001b[0;34m(\u001b[0m\u001b[0;36m2\u001b[0m\u001b[0;34m)\u001b[0m\u001b[0;34m\u001b[0m\u001b[0;34m\u001b[0m\u001b[0m\n\u001b[0m",
            "\u001b[0;31mAttributeError\u001b[0m: 'tuple' object has no attribute 'pop'"
          ]
        }
      ]
    },
    {
      "cell_type": "code",
      "metadata": {
        "colab": {
          "base_uri": "https://localhost:8080/"
        },
        "id": "IGrUYPpJc0_X",
        "outputId": "a9b6c16f-5959-4e3d-cda9-010cd3bb3afe"
      },
      "source": [
        "lis=[1,1,1,1,1,1]\n",
        "lis\n",
        "tup=(1,1,1,1,1,1)\n",
        "tup"
      ],
      "execution_count": 25,
      "outputs": [
        {
          "output_type": "execute_result",
          "data": {
            "text/plain": [
              "(1, 1, 1, 1, 1, 1)"
            ]
          },
          "metadata": {
            "tags": []
          },
          "execution_count": 25
        }
      ]
    },
    {
      "cell_type": "code",
      "metadata": {
        "colab": {
          "base_uri": "https://localhost:8080/"
        },
        "id": "P7etiKBDeART",
        "outputId": "2b4fea23-6fbc-4987-fcf5-01f45482436e"
      },
      "source": [
        "set1={1,2,3,4,5,6,1,1,1,1,1,1}\n",
        "set1"
      ],
      "execution_count": 29,
      "outputs": [
        {
          "output_type": "execute_result",
          "data": {
            "text/plain": [
              "{1, 2, 3, 4, 5, 6}"
            ]
          },
          "metadata": {
            "tags": []
          },
          "execution_count": 29
        }
      ]
    },
    {
      "cell_type": "code",
      "metadata": {
        "colab": {
          "base_uri": "https://localhost:8080/"
        },
        "id": "RKH3BAUFeQdQ",
        "outputId": "f78c001d-50a3-4e3e-bc49-d430e19beb7b"
      },
      "source": [
        "myset={10,'ravi','raj',40,'uday'}\n",
        "myset"
      ],
      "execution_count": 31,
      "outputs": [
        {
          "output_type": "execute_result",
          "data": {
            "text/plain": [
              "{10, 40, 'raj', 'ravi', 'uday'}"
            ]
          },
          "metadata": {
            "tags": []
          },
          "execution_count": 31
        }
      ]
    },
    {
      "cell_type": "code",
      "metadata": {
        "colab": {
          "base_uri": "https://localhost:8080/"
        },
        "id": "N8TOZszGfC3m",
        "outputId": "dbe83e85-3cf1-42a7-d18a-5e942aff9b31"
      },
      "source": [
        "print(type(myset))"
      ],
      "execution_count": 33,
      "outputs": [
        {
          "output_type": "stream",
          "text": [
            "<class 'set'>\n"
          ],
          "name": "stdout"
        }
      ]
    },
    {
      "cell_type": "code",
      "metadata": {
        "colab": {
          "base_uri": "https://localhost:8080/",
          "height": 163
        },
        "id": "6q1XjBUOfawH",
        "outputId": "561d7eac-a383-443f-bd53-9c6d91b070c6"
      },
      "source": [
        "myset[2]"
      ],
      "execution_count": 34,
      "outputs": [
        {
          "output_type": "error",
          "ename": "TypeError",
          "evalue": "ignored",
          "traceback": [
            "\u001b[0;31m---------------------------------------------------------------------------\u001b[0m",
            "\u001b[0;31mTypeError\u001b[0m                                 Traceback (most recent call last)",
            "\u001b[0;32m<ipython-input-34-87d4898c78d0>\u001b[0m in \u001b[0;36m<module>\u001b[0;34m()\u001b[0m\n\u001b[0;32m----> 1\u001b[0;31m \u001b[0mmyset\u001b[0m\u001b[0;34m[\u001b[0m\u001b[0;36m2\u001b[0m\u001b[0;34m]\u001b[0m\u001b[0;34m\u001b[0m\u001b[0;34m\u001b[0m\u001b[0m\n\u001b[0m",
            "\u001b[0;31mTypeError\u001b[0m: 'set' object is not subscriptable"
          ]
        }
      ]
    },
    {
      "cell_type": "code",
      "metadata": {
        "colab": {
          "base_uri": "https://localhost:8080/"
        },
        "id": "U-wbgKaOgUIt",
        "outputId": "ffcee517-f1ac-48f5-9214-7a7eb166a65e"
      },
      "source": [
        "dict1={1:'raj',2:'ravi',3:'kvr',4:'oliver',5:'uday' }\n",
        "dict1[3]\n",
        "dict1[1]='pvc'"
      ],
      "execution_count": 40,
      "outputs": [
        {
          "output_type": "execute_result",
          "data": {
            "text/plain": [
              "{1: 'pvc', 2: 'ravi', 3: 'kvr', 4: 'oliver', 5: 'uday'}"
            ]
          },
          "metadata": {
            "tags": []
          },
          "execution_count": 40
        }
      ]
    },
    {
      "cell_type": "code",
      "metadata": {
        "colab": {
          "base_uri": "https://localhost:8080/"
        },
        "id": "7evY_1KKiAMe",
        "outputId": "b6be25ae-1b88-454b-fc63-74fb1bc783de"
      },
      "source": [
        "dict2={'pvc':'raj','ldpally':'kvr','kgm':'ravi','market':'uday'}\n",
        "del dict2['ldpally']\n",
        "dict2\n"
      ],
      "execution_count": 49,
      "outputs": [
        {
          "output_type": "execute_result",
          "data": {
            "text/plain": [
              "{'kgm': 'ravi', 'market': 'uday', 'pvc': 'raj'}"
            ]
          },
          "metadata": {
            "tags": []
          },
          "execution_count": 49
        }
      ]
    },
    {
      "cell_type": "code",
      "metadata": {
        "colab": {
          "base_uri": "https://localhost:8080/"
        },
        "id": "9Td1tkFziuFF",
        "outputId": "0a94daa0-ef70-455e-e290-e4c65aebafbc"
      },
      "source": [
        "dict3={1:20,3:20,2:40,4:50}\n",
        "dict3"
      ],
      "execution_count": 44,
      "outputs": [
        {
          "output_type": "execute_result",
          "data": {
            "text/plain": [
              "{1: 20, 2: 40, 3: 20, 4: 50}"
            ]
          },
          "metadata": {
            "tags": []
          },
          "execution_count": 44
        }
      ]
    },
    {
      "cell_type": "code",
      "metadata": {
        "colab": {
          "base_uri": "https://localhost:8080/"
        },
        "id": "voPjNPv8jOda",
        "outputId": "355457e8-7295-4767-e7d3-1f59cd7157c5"
      },
      "source": [
        "dict3[5]=60\n",
        "dict3"
      ],
      "execution_count": 46,
      "outputs": [
        {
          "output_type": "execute_result",
          "data": {
            "text/plain": [
              "{1: 20, 2: 40, 3: 20, 4: 50, 5: 60}"
            ]
          },
          "metadata": {
            "tags": []
          },
          "execution_count": 46
        }
      ]
    },
    {
      "cell_type": "code",
      "metadata": {
        "colab": {
          "base_uri": "https://localhost:8080/"
        },
        "id": "9W-3O9tnjk8K",
        "outputId": "5ddbacd3-ac31-420f-92a4-987243ad74d5"
      },
      "source": [
        "del dict3[3]\n",
        "dict3"
      ],
      "execution_count": 48,
      "outputs": [
        {
          "output_type": "execute_result",
          "data": {
            "text/plain": [
              "{1: 20, 2: 40, 4: 50, 5: 60}"
            ]
          },
          "metadata": {
            "tags": []
          },
          "execution_count": 48
        }
      ]
    },
    {
      "cell_type": "code",
      "metadata": {
        "colab": {
          "base_uri": "https://localhost:8080/"
        },
        "id": "ppebcc9Kkiku",
        "outputId": "982474bb-bca5-4763-f2d1-9134fdb9953a"
      },
      "source": [
        "#datatype conversions\n",
        "myvalue=5.5\n",
        "int(myvalue)"
      ],
      "execution_count": 51,
      "outputs": [
        {
          "output_type": "execute_result",
          "data": {
            "text/plain": [
              "5"
            ]
          },
          "metadata": {
            "tags": []
          },
          "execution_count": 51
        }
      ]
    },
    {
      "cell_type": "code",
      "metadata": {
        "colab": {
          "base_uri": "https://localhost:8080/"
        },
        "id": "lxp0v1VrmZF2",
        "outputId": "1d6cbf59-917e-462c-f86d-87b8d0f6e109"
      },
      "source": [
        "myval=50\n",
        "float(myval)"
      ],
      "execution_count": 52,
      "outputs": [
        {
          "output_type": "execute_result",
          "data": {
            "text/plain": [
              "50.0"
            ]
          },
          "metadata": {
            "tags": []
          },
          "execution_count": 52
        }
      ]
    },
    {
      "cell_type": "code",
      "metadata": {
        "colab": {
          "base_uri": "https://localhost:8080/",
          "height": 35
        },
        "id": "9nReWjgimqQk",
        "outputId": "d6d0a636-5063-4431-d4a5-dbf23bf1d5d0"
      },
      "source": [
        "str(myval)"
      ],
      "execution_count": 53,
      "outputs": [
        {
          "output_type": "execute_result",
          "data": {
            "application/vnd.google.colaboratory.intrinsic+json": {
              "type": "string"
            },
            "text/plain": [
              "'50'"
            ]
          },
          "metadata": {
            "tags": []
          },
          "execution_count": 53
        }
      ]
    },
    {
      "cell_type": "code",
      "metadata": {
        "colab": {
          "base_uri": "https://localhost:8080/",
          "height": 180
        },
        "id": "cBkxvfS_mwIO",
        "outputId": "50c6684d-46ff-4589-d7c1-146cf220b804"
      },
      "source": [
        "string='uday'\n",
        "int(string)"
      ],
      "execution_count": 54,
      "outputs": [
        {
          "output_type": "error",
          "ename": "ValueError",
          "evalue": "ignored",
          "traceback": [
            "\u001b[0;31m---------------------------------------------------------------------------\u001b[0m",
            "\u001b[0;31mValueError\u001b[0m                                Traceback (most recent call last)",
            "\u001b[0;32m<ipython-input-54-7672e5305a03>\u001b[0m in \u001b[0;36m<module>\u001b[0;34m()\u001b[0m\n\u001b[1;32m      1\u001b[0m \u001b[0mstring\u001b[0m\u001b[0;34m=\u001b[0m\u001b[0;34m'uday'\u001b[0m\u001b[0;34m\u001b[0m\u001b[0;34m\u001b[0m\u001b[0m\n\u001b[0;32m----> 2\u001b[0;31m \u001b[0mint\u001b[0m\u001b[0;34m(\u001b[0m\u001b[0mstring\u001b[0m\u001b[0;34m)\u001b[0m\u001b[0;34m\u001b[0m\u001b[0;34m\u001b[0m\u001b[0m\n\u001b[0m",
            "\u001b[0;31mValueError\u001b[0m: invalid literal for int() with base 10: 'uday'"
          ]
        }
      ]
    },
    {
      "cell_type": "code",
      "metadata": {
        "colab": {
          "base_uri": "https://localhost:8080/"
        },
        "id": "PLzQj5sSm5AG",
        "outputId": "53638a61-4cdd-45e2-af9c-cf1577251ae9"
      },
      "source": [
        "int('100')"
      ],
      "execution_count": 57,
      "outputs": [
        {
          "output_type": "execute_result",
          "data": {
            "text/plain": [
              "100"
            ]
          },
          "metadata": {
            "tags": []
          },
          "execution_count": 57
        }
      ]
    },
    {
      "cell_type": "code",
      "metadata": {
        "colab": {
          "base_uri": "https://localhost:8080/"
        },
        "id": "l0_asm5FnMG8",
        "outputId": "3e7a6060-de74-4186-96cb-829c97c8e7b0"
      },
      "source": [
        "int(5.5)"
      ],
      "execution_count": 59,
      "outputs": [
        {
          "output_type": "execute_result",
          "data": {
            "text/plain": [
              "5"
            ]
          },
          "metadata": {
            "tags": []
          },
          "execution_count": 59
        }
      ]
    },
    {
      "cell_type": "code",
      "metadata": {
        "colab": {
          "base_uri": "https://localhost:8080/",
          "height": 35
        },
        "id": "aua_NuslnaGV",
        "outputId": "472c9343-a764-4af4-ec8d-23e7d97fcdb3"
      },
      "source": [
        "myNewString = 'text1 '+str(20)+ ' text2'\n",
        "myNewString"
      ],
      "execution_count": 64,
      "outputs": [
        {
          "output_type": "execute_result",
          "data": {
            "application/vnd.google.colaboratory.intrinsic+json": {
              "type": "string"
            },
            "text/plain": [
              "'text1 20 text2'"
            ]
          },
          "metadata": {
            "tags": []
          },
          "execution_count": 64
        }
      ]
    },
    {
      "cell_type": "code",
      "metadata": {
        "colab": {
          "base_uri": "https://localhost:8080/"
        },
        "id": "0B8RVqATnyJn",
        "outputId": "e3cf5d09-8700-4984-9c5b-0ed9a509a09f"
      },
      "source": [
        "mylist=[1,2,3]\n",
        "mylist\n",
        "type(mylist)\n",
        "myset=set(mylist)\n",
        "myset"
      ],
      "execution_count": 70,
      "outputs": [
        {
          "output_type": "execute_result",
          "data": {
            "text/plain": [
              "{1, 2, 3}"
            ]
          },
          "metadata": {
            "tags": []
          },
          "execution_count": 70
        }
      ]
    },
    {
      "cell_type": "code",
      "metadata": {
        "colab": {
          "base_uri": "https://localhost:8080/"
        },
        "id": "h1ImEI_roOaW",
        "outputId": "f62d0924-7e82-4837-8eb5-9a6b6c633fc1"
      },
      "source": [
        "myset={1,2,3,4,5}\n",
        "mylis=list(myset)\n",
        "mylis\n"
      ],
      "execution_count": 71,
      "outputs": [
        {
          "output_type": "execute_result",
          "data": {
            "text/plain": [
              "[1, 2, 3, 4, 5]"
            ]
          },
          "metadata": {
            "tags": []
          },
          "execution_count": 71
        }
      ]
    },
    {
      "cell_type": "code",
      "metadata": {
        "colab": {
          "base_uri": "https://localhost:8080/"
        },
        "id": "hUNGQfiso1ch",
        "outputId": "ed4e5f5d-f170-4670-d61b-5dffa058f396"
      },
      "source": [
        "mystring='i am raj kumar'\n",
        "mystring\n",
        "list7=list(mystring)\n",
        "list7"
      ],
      "execution_count": 73,
      "outputs": [
        {
          "output_type": "execute_result",
          "data": {
            "text/plain": [
              "['i', ' ', 'a', 'm', ' ', 'r', 'a', 'j', ' ', 'k', 'u', 'm', 'a', 'r']"
            ]
          },
          "metadata": {
            "tags": []
          },
          "execution_count": 73
        }
      ]
    },
    {
      "cell_type": "code",
      "metadata": {
        "id": "QAZKFGs6pHJ1"
      },
      "source": [
        ""
      ],
      "execution_count": null,
      "outputs": []
    }
  ]
}